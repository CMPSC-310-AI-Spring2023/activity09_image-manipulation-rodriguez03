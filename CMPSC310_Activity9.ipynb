{
  "nbformat": 4,
  "nbformat_minor": 0,
  "metadata": {
    "colab": {
      "provenance": [],
      "include_colab_link": true
    },
    "kernelspec": {
      "name": "python3",
      "display_name": "Python 3"
    },
    "language_info": {
      "name": "python"
    }
  },
  "cells": [
    {
      "cell_type": "markdown",
      "metadata": {
        "id": "view-in-github",
        "colab_type": "text"
      },
      "source": [
        "<a href=\"https://colab.research.google.com/github/CMPSC-310-AI-Spring2023/activity09_image-manipulation-rodriguez03/blob/main/CMPSC310_Activity9.ipynb\" target=\"_parent\"><img src=\"https://colab.research.google.com/assets/colab-badge.svg\" alt=\"Open In Colab\"/></a>"
      ]
    },
    {
      "cell_type": "markdown",
      "source": [
        "# **Activity 9: Image Manipulation **\n"
      ],
      "metadata": {
        "id": "vcrrIOhGjS0Z"
      }
    },
    {
      "cell_type": "code",
      "source": [
        "import numpy as np\n",
        "import cv2\n",
        "\n",
        "#variable name of the rectangle with the array of zeros \n",
        "rect = np.zeros((300, 300), dtype=\"uint8\")\n",
        "# 25, 25 is the starting point of the coordinate -> ending at 275 -> 255 is the color -> -1 is thickness\n",
        "cv2.rectangle(rect, (25, 25), (275,275), 255, -1)\n",
        "#saving rectangle image\n",
        "cv2.imwrite(\"bitwise/Rectangle.png\", rect)\n",
        "\n",
        "\n",
        "#creating a circle\n",
        "circ = np.zeros((300, 300), dtype= \"uint8\")\n",
        "cv2.circle(circ, (150,150), 150, 255, -1)\n",
        "cv2.imwrite(\"bitwise/Circle.png\", circ)\n",
        "\n",
        "#compare the rectangle and circle by looking through every pixel in both images \n",
        "bitwiseAnd = cv2.bitwise_and(rect, circ)\n",
        "cv2.imwrite(\"bitwise/And.png\", bitwiseAnd)\n",
        "\n",
        "\n",
        "bitwiseOR = cv2.bitwise_or(rect, circ)\n",
        "cv2.imwrite(\"bitwise/OR.png\", bitwiseOR)\n",
        "\n",
        "\n",
        "bitwiseXOR = cv2.bitwise_xor(rect, circ)\n",
        "cv2.imwrite(\"bitwise/Xor.png\", bitwiseXOR)\n",
        "\n",
        "bitwiseNOT = cv2.bitwise_not(rect, circ)\n",
        "cv2.imwrite(\"bitwise/Not.png\", bitwiseNOT)\n"
      ],
      "metadata": {
        "colab": {
          "base_uri": "https://localhost:8080/"
        },
        "id": "HPy0NtuvOFtA",
        "outputId": "b147620a-77e2-4195-a785-fcab3639dcad"
      },
      "execution_count": 10,
      "outputs": [
        {
          "output_type": "execute_result",
          "data": {
            "text/plain": [
              "True"
            ]
          },
          "metadata": {},
          "execution_count": 10
        }
      ]
    },
    {
      "cell_type": "code",
      "source": [
        "# tells us there the amount of pixels located in the image \n",
        "image = cv2.imread(\"images/flint1.jpg\")\n",
        "print(image.shape)\n",
        "\n",
        "mask = np.zeros(image.shape[:2], dtype = \"uint8\")"
      ],
      "metadata": {
        "colab": {
          "base_uri": "https://localhost:8080/"
        },
        "id": "R6Q64y-GOZRv",
        "outputId": "f5508173-6666-4703-8fef-a180eeca9eb7"
      },
      "execution_count": 11,
      "outputs": [
        {
          "output_type": "stream",
          "name": "stdout",
          "text": [
            "(467, 350, 3)\n"
          ]
        }
      ]
    }
  ]
}